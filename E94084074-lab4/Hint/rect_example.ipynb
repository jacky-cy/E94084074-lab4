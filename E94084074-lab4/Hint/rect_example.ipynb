{
 "cells": [
  {
   "cell_type": "code",
   "execution_count": null,
   "metadata": {},
   "outputs": [],
   "source": [
    "import pygame\n",
    "\n",
    "pygame.init()\n",
    "win = pygame.display.set_mode((800, 600))\n",
    "clock = pygame.time.Clock()\n",
    "FPS = 60\n",
    "font = pygame.font.SysFont(\"comicsans\", 20)\n",
    "# Rectangle\n",
    "surface_rect = pygame.Surface((200, 100)).get_rect()\n",
    "CENTER = (300, 100)\n",
    "surface_rect.center = CENTER\n",
    "# color\n",
    "GREEN = (0, 255, 0)\n",
    "BLACK = (0, 0, 0)\n",
    "RED = (255, 0, 0)\n",
    "BLUE = (0, 0, 255)\n",
    "SKY_BLUE = (0, 255, 255)\n",
    "YELLOW = (255, 255, 0)\n",
    "MAGENTA = (255, 0, 255)\n",
    "GRAY = (128, 128, 128)\n",
    "OLIVE = (128, 128, 0)\n",
    "NAVY = (0, 0, 128)\n",
    "PURPLE = (128, 0, 128)\n",
    "\n",
    "run = True\n",
    "while run:\n",
    "    clock.tick(FPS)\n",
    "    for event in pygame.event.get():\n",
    "        if event.type == pygame.QUIT:\n",
    "            run = False\n",
    "\n",
    "    # fill the window\n",
    "    win.fill((255, 255, 255))\n",
    "    # draw rectangle\n",
    "    pygame.draw.rect(win, (255, 0, 0), surface_rect)\n",
    "\n",
    "    # draw background point\n",
    "    for x in range(0, 800, 100):\n",
    "        for y in range(0, 600, 100):\n",
    "            font_surface = font.render(f\"{x, y}\", True, (0, 0, 0))\n",
    "            win.blit(font_surface, (x, y+10))\n",
    "            pygame.draw.circle(win, (0, 0, 0), (x, y), 5)\n",
    "\n",
    "    # pygame.draw.circle(win, (RGB), (x, y), radius)\n",
    "    pygame.draw.circle(win, BLUE, surface_rect.center, 5)\n",
    "    pygame.draw.circle(win, GREEN, (surface_rect.x, surface_rect.y), 5)\n",
    "    pygame.draw.circle(win, MAGENTA, surface_rect.midtop, 5)\n",
    "    pygame.draw.circle(win, OLIVE, surface_rect.topright, 5)\n",
    "    pygame.draw.circle(win, YELLOW, surface_rect.midright, 5)\n",
    "    pygame.draw.circle(win, SKY_BLUE, surface_rect.bottomright, 5)\n",
    "    pygame.draw.circle(win, NAVY, surface_rect.midbottom, 5)\n",
    "    pygame.draw.circle(win, GRAY, surface_rect.bottomleft, 5)\n",
    "    pygame.draw.circle(win, PURPLE, surface_rect.midleft, 5)\n",
    "    pygame.display.update()\n",
    "pygame.quit()\n"
   ]
  }
 ],
 "metadata": {
  "kernelspec": {
   "display_name": "Python 3",
   "language": "python",
   "name": "python3"
  },
  "language_info": {
   "codemirror_mode": {
    "name": "ipython",
    "version": 3
   },
   "file_extension": ".py",
   "mimetype": "text/x-python",
   "name": "python",
   "nbconvert_exporter": "python",
   "pygments_lexer": "ipython3",
   "version": "3.8.8"
  }
 },
 "nbformat": 4,
 "nbformat_minor": 4
}
