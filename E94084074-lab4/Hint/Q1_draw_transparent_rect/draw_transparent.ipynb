{
 "cells": [
  {
   "cell_type": "code",
   "execution_count": 3,
   "metadata": {},
   "outputs": [],
   "source": [
    "import pygame\n",
    "\n",
    "pygame.init()\n",
    "win = pygame.display.set_mode((800, 600))\n",
    "clock = pygame.time.Clock()\n",
    "FPS = 60\n",
    "\n",
    "run = True\n",
    "while run:\n",
    "    clock.tick(FPS)\n",
    "    for event in pygame.event.get():\n",
    "        if event.type == pygame.QUIT:\n",
    "            run = False\n",
    "    # fill the window\n",
    "    win.fill((0, 0, 255))\n",
    "    # create semi-transparent surface\n",
    "    transparent_surface = pygame.Surface((100, 100), pygame.SRCALPHA)\n",
    "    transparency = 255  # define transparency: 0~255, 0 is fully transparent\n",
    "    # draw the rectangle on the transparent surface\n",
    "    pygame.draw.rect(transparent_surface, (255, 0, 0, transparency), [0, 0, 50, 50])\n",
    "\n",
    "    win.blit(transparent_surface, (400, 400))\n",
    "    pygame.display.update()\n",
    "pygame.quit()\n"
   ]
  },
  {
   "cell_type": "code",
   "execution_count": null,
   "metadata": {},
   "outputs": [],
   "source": []
  }
 ],
 "metadata": {
  "kernelspec": {
   "display_name": "Python 3",
   "language": "python",
   "name": "python3"
  },
  "language_info": {
   "codemirror_mode": {
    "name": "ipython",
    "version": 3
   },
   "file_extension": ".py",
   "mimetype": "text/x-python",
   "name": "python",
   "nbconvert_exporter": "python",
   "pygments_lexer": "ipython3",
   "version": "3.8.8"
  }
 },
 "nbformat": 4,
 "nbformat_minor": 4
}
